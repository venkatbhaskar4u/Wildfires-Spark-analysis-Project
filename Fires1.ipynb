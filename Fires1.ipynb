{
 "cells": [
  {
   "cell_type": "markdown",
   "id": "db65503f",
   "metadata": {},
   "source": [
    "Spark Program to analyze San Francisco fires DataSet"
   ]
  },
  {
   "cell_type": "markdown",
   "id": "1fa02b1c",
   "metadata": {},
   "source": [
    "Importing libraries"
   ]
  },
  {
   "cell_type": "code",
   "execution_count": null,
   "id": "6310f758",
   "metadata": {},
   "outputs": [],
   "source": [
    "from pyspark.sql.types import *\n",
    "from pyspark.sql import SparkSession\n",
    "from pyspark.sql.functions import *\n",
    "from pyspark.sql import functions as F"
   ]
  },
  {
   "cell_type": "code",
   "execution_count": null,
   "id": "4ce9410d",
   "metadata": {},
   "outputs": [],
   "source": [
    "#Building the Spark App\n",
    "spark=SparkSession.builder.appName(\"SF_Fire\").getOrCreate()"
   ]
  },
  {
   "cell_type": "code",
   "execution_count": null,
   "id": "872c7c86",
   "metadata": {},
   "outputs": [],
   "source": [
    "#Schema\n",
    "fire_schema = StructType([StructField('CallNumber', IntegerType(), True),\n",
    "                          StructField('UnitID', StringType(), True),\n",
    "                          StructField('IncidentNumber', IntegerType(), True),\n",
    "                          StructField('CallType', StringType(), True), \n",
    "                          StructField('CallDate', StringType(), True), \n",
    "                          StructField('WatchDate', StringType(), True),\n",
    "                          StructField('CallFinalDisposition', StringType(), True),\n",
    "                          StructField('AvailableDtTm', StringType(), True),\n",
    "                          StructField('Address', StringType(), True), \n",
    "                          StructField('City', StringType(), True), \n",
    "                          StructField('Zipcode', IntegerType(), True), \n",
    "                          StructField('Battalion', StringType(), True), \n",
    "                          StructField('StationArea', StringType(), True), \n",
    "                          StructField('Box', StringType(), True), \n",
    "                          StructField('OriginalPriority', StringType(), True), \n",
    "                          StructField('Priority', StringType(), True), \n",
    "                          StructField('FinalPriority', IntegerType(), True), \n",
    "                          StructField('ALSUnit', BooleanType(), True), \n",
    "                          StructField('CallTypeGroup', StringType(), True),\n",
    "                          StructField('NumAlarms', IntegerType(), True),\n",
    "                          StructField('UnitType', StringType(), True),\n",
    "                          StructField('UnitSequenceInCallDispatch', IntegerType(), True),\n",
    "                          StructField('FirePreventionDistrict', StringType(), True),\n",
    "                          StructField('SupervisorDistrict', StringType(), True),\n",
    "                          StructField('Neighborhood', StringType(), True),\n",
    "                          StructField('Location', StringType(), True),\n",
    "                          StructField('RowID', StringType(), True),\n",
    "                          StructField('Delay', FloatType(), True)])"
   ]
  },
  {
   "cell_type": "code",
   "execution_count": null,
   "id": "58ebfb58",
   "metadata": {},
   "outputs": [],
   "source": [
    "#Reading the CSV file and loading it into a DataFrame\n",
    "sf_fire_file=\"file:///SparkCourse/Fire-data.csv\"\n",
    "fire_df=spark.read.schema(fire_schema).option(\"header\",\"true\").csv(sf_fire_file)"
   ]
  },
  {
   "cell_type": "code",
   "execution_count": null,
   "id": "4958a53e",
   "metadata": {},
   "outputs": [],
   "source": [
    "#Getting Incidents which do not have Medical Incident as their call types\n",
    "few_fire_df = (fire_df.select(\"IncidentNumber\",\"AvailableDtTm\",\"CallType\").where(F.col(\"CallType\")!=\"Medical Incident\"))\n",
    "few_fire_df.show(5,truncate=False)"
   ]
  },
  {
   "cell_type": "code",
   "execution_count": null,
   "id": "d6ff583a",
   "metadata": {},
   "outputs": [],
   "source": [
    "#Getting distinct types of call types\n",
    "fire_df.select(\"CallType\").where(F.col(\"CallType\").isNotNull()).agg(countDistinct(\"CallType\").alias(\"Distinct CallTypes\")).show()\n",
    "fire_df.show(5,truncate=False)\n",
    "fire_df.select(\"CallType\").where(F.col(\"CallType\").isNotNull()).distinct().show(5,truncate=False)"
   ]
  },
  {
   "cell_type": "code",
   "execution_count": null,
   "id": "a04d0b01",
   "metadata": {},
   "outputs": [],
   "source": [
    "#Renaming Columns and getting the situations where response time was more than 5 mins\n",
    "new_fire_df=fire_df.withColumnRenamed(\"Delay\", \"ResponseDelayedinMins\")\n",
    "new_fire_df.select(\"ResponseDelayedinMins\").where(F.col(\"ResponseDelayedinMins\")>5).show(5)"
   ]
  },
  {
   "cell_type": "code",
   "execution_count": null,
   "id": "d2814381",
   "metadata": {},
   "outputs": [],
   "source": [
    "#Changing the Datatypes of few columns from string to date types\n",
    "fire_ts_df = (new_fire_df\n",
    ".withColumn(\"IncidentDate\", to_timestamp(col(\"CallDate\"), \"M/d/y\"))\n",
    "  .drop(\"CallDate\")\n",
    "  .withColumn(\"OnWatchDate\", to_timestamp(col(\"WatchDate\"), \"M/d/y\"))\n",
    "  .drop(\"WatchDate\")\n",
    "  .withColumn(\"AvailableDtTS\", to_timestamp(col(\"AvailableDtTm\"),\n",
    "  \"M/d/y h:m\"))\n",
    "  .drop(\"AvailableDtTm\"))"
   ]
  },
  {
   "cell_type": "code",
   "execution_count": null,
   "id": "79e556fc",
   "metadata": {},
   "outputs": [],
   "source": [
    "#Projection and aggregation of few columns\n",
    "fire_ts_df.select(\"IncidentDate\",\"OnWatchDate\",\"AvailableDtTs\").show(5,truncate=False)\n",
    "fire_ts_df.select(\"CallType\")\\\n",
    "    .where(F.col(\"CallType\").isNotNull())\\\n",
    "        .groupBy(\"CallType\")\\\n",
    "        .count()\\\n",
    "        .orderBy(\"count\", ascending=False)\\\n",
    "        .show(n=10, truncate=False)"
   ]
  },
  {
   "cell_type": "code",
   "execution_count": null,
   "id": "33f3784b",
   "metadata": {},
   "outputs": [],
   "source": [
    "#Trying various types of Aggregation Functions\n",
    "fire_ts_df.select(F.sum(\"NumAlarms\"),F.avg(\"ResponseDelayedinMins\"),F.min(\"ResponseDelayedinMins\"),F.max(\"ResponseDelayedinMins\")).show()"
   ]
  },
  {
   "cell_type": "code",
   "execution_count": null,
   "id": "167dbee8",
   "metadata": {},
   "outputs": [],
   "source": [
    "#What were all the different types of fire calls in the year of 2018?\n",
    "fire_ts_df.select(\"CallType\").filter(year(F.col(\"IncidentDate\"))==2018).distinct().show()"
   ]
  },
  {
   "cell_type": "code",
   "execution_count": null,
   "id": "ecf6731d",
   "metadata": {},
   "outputs": [],
   "source": [
    "#What months within the year 2018 saw the highest number of fire calls?\n",
    "ne_fire=fire_ts_df.withColumn(\"Month\",month(\"IncidentDate\")).filter(year(F.col(\"IncidentDate\"))==2018)\n",
    "sa=ne_fire.groupBy(\"Month\").agg(count(\"Month\").alias(\"Count\")).orderBy(\"Count\",ascending=False)\n",
    "sa.show()"
   ]
  },
  {
   "cell_type": "code",
   "execution_count": null,
   "id": "661ab242",
   "metadata": {},
   "outputs": [],
   "source": [
    "sc.stop()"
   ]
  }
 ],
 "metadata": {
  "kernelspec": {
   "display_name": "Python 3 (ipykernel)",
   "language": "python",
   "name": "python3"
  },
  "language_info": {
   "codemirror_mode": {
    "name": "ipython",
    "version": 3
   },
   "file_extension": ".py",
   "mimetype": "text/x-python",
   "name": "python",
   "nbconvert_exporter": "python",
   "pygments_lexer": "ipython3",
   "version": "3.9.7"
  }
 },
 "nbformat": 4,
 "nbformat_minor": 5
}
